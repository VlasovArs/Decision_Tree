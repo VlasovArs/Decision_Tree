{
 "cells": [
  {
   "cell_type": "code",
   "execution_count": 18,
   "id": "d780bce6",
   "metadata": {},
   "outputs": [],
   "source": [
    "import pandas as pd\n",
    "from sklearn.tree import DecisionTreeClassifier\n",
    "from sklearn import tree"
   ]
  },
  {
   "cell_type": "code",
   "execution_count": null,
   "id": "adf4adca",
   "metadata": {},
   "outputs": [],
   "source": [
    "# 1 exsercise"
   ]
  },
  {
   "cell_type": "code",
   "execution_count": 19,
   "id": "f85c15ec",
   "metadata": {},
   "outputs": [],
   "source": [
    "clf = DecisionTreeClassifier(criterion='entropy', max_depth=5, min_samples_split=5)"
   ]
  },
  {
   "cell_type": "code",
   "execution_count": 4,
   "id": "26c234f9",
   "metadata": {},
   "outputs": [],
   "source": [
    "df = pd.read_csv('train_data_tree.csv')"
   ]
  },
  {
   "cell_type": "code",
   "execution_count": 5,
   "id": "569d43d2",
   "metadata": {},
   "outputs": [
    {
     "data": {
      "text/html": [
       "<div>\n",
       "<style scoped>\n",
       "    .dataframe tbody tr th:only-of-type {\n",
       "        vertical-align: middle;\n",
       "    }\n",
       "\n",
       "    .dataframe tbody tr th {\n",
       "        vertical-align: top;\n",
       "    }\n",
       "\n",
       "    .dataframe thead th {\n",
       "        text-align: right;\n",
       "    }\n",
       "</style>\n",
       "<table border=\"1\" class=\"dataframe\">\n",
       "  <thead>\n",
       "    <tr style=\"text-align: right;\">\n",
       "      <th></th>\n",
       "      <th>sex</th>\n",
       "      <th>exang</th>\n",
       "      <th>num</th>\n",
       "    </tr>\n",
       "  </thead>\n",
       "  <tbody>\n",
       "    <tr>\n",
       "      <th>0</th>\n",
       "      <td>1</td>\n",
       "      <td>1</td>\n",
       "      <td>1</td>\n",
       "    </tr>\n",
       "    <tr>\n",
       "      <th>1</th>\n",
       "      <td>1</td>\n",
       "      <td>1</td>\n",
       "      <td>1</td>\n",
       "    </tr>\n",
       "    <tr>\n",
       "      <th>2</th>\n",
       "      <td>1</td>\n",
       "      <td>0</td>\n",
       "      <td>1</td>\n",
       "    </tr>\n",
       "    <tr>\n",
       "      <th>3</th>\n",
       "      <td>1</td>\n",
       "      <td>0</td>\n",
       "      <td>0</td>\n",
       "    </tr>\n",
       "    <tr>\n",
       "      <th>4</th>\n",
       "      <td>1</td>\n",
       "      <td>0</td>\n",
       "      <td>1</td>\n",
       "    </tr>\n",
       "  </tbody>\n",
       "</table>\n",
       "</div>"
      ],
      "text/plain": [
       "   sex  exang  num\n",
       "0    1      1    1\n",
       "1    1      1    1\n",
       "2    1      0    1\n",
       "3    1      0    0\n",
       "4    1      0    1"
      ]
     },
     "execution_count": 5,
     "metadata": {},
     "output_type": "execute_result"
    }
   ],
   "source": [
    "df.head()"
   ]
  },
  {
   "cell_type": "code",
   "execution_count": 7,
   "id": "0255bfc7",
   "metadata": {},
   "outputs": [],
   "source": [
    "y = df.num\n",
    "X = df[['sex','exang']]"
   ]
  },
  {
   "cell_type": "code",
   "execution_count": 21,
   "id": "96bd2526",
   "metadata": {},
   "outputs": [
    {
     "data": {
      "text/plain": [
       "DecisionTreeClassifier(criterion='entropy', max_depth=5, min_samples_split=5)"
      ]
     },
     "execution_count": 21,
     "metadata": {},
     "output_type": "execute_result"
    }
   ],
   "source": [
    "clf.fit(X, y)"
   ]
  },
  {
   "cell_type": "code",
   "execution_count": 23,
   "id": "13c6581e",
   "metadata": {},
   "outputs": [
    {
     "data": {
      "text/plain": [
       "[Text(0.5, 0.8333333333333334, 'X[1] <= 0.5\\nentropy = 0.996\\nsamples = 238\\nvalue = [128, 110]'),\n",
       " Text(0.25, 0.5, 'X[0] <= 0.5\\nentropy = 0.903\\nsamples = 157\\nvalue = [107, 50]'),\n",
       " Text(0.125, 0.16666666666666666, 'entropy = 0.612\\nsamples = 53\\nvalue = [45, 8]'),\n",
       " Text(0.375, 0.16666666666666666, 'entropy = 0.973\\nsamples = 104\\nvalue = [62, 42]'),\n",
       " Text(0.75, 0.5, 'X[0] <= 0.5\\nentropy = 0.826\\nsamples = 81\\nvalue = [21, 60]'),\n",
       " Text(0.625, 0.16666666666666666, 'entropy = 0.954\\nsamples = 16\\nvalue = [6, 10]'),\n",
       " Text(0.875, 0.16666666666666666, 'entropy = 0.779\\nsamples = 65\\nvalue = [15, 50]')]"
      ]
     },
     "execution_count": 23,
     "metadata": {},
     "output_type": "execute_result"
    },
    {
     "data": {
      "image/png": "[encoded data removed]",
      "text/plain": [
       "<Figure size 432x288 with 1 Axes>"
      ]
     },
     "metadata": {
      "needs_background": "light"
     },
     "output_type": "display_data"
    }
   ],
   "source": [
    "tree.plot_tree(clf, filled=True)\n",
    "#l_node =  # индекс корня левого поддерева\n",
    "#r_node = clf.tree_.children_right[0]\n",
    "#n1 = clf.tree_.n_node_samples[l_node] # сэмплов в левом поддереве\n",
    "#e1 = clf.tree_.impurity[l_node] # энтропия в корне левого поддерева\n",
    "#IG = 0.996 - (n1*E0 + n1*E1)/N"
   ]
  },
  {
   "cell_type": "code",
   "execution_count": 24,
   "id": "26c77c7d",
   "metadata": {},
   "outputs": [],
   "source": [
    "IG = 0.996 - (157/238*0.903 + 81/238*0.826)"
   ]
  },
  {
   "cell_type": "code",
   "execution_count": 25,
   "id": "a1ef790d",
   "metadata": {},
   "outputs": [
    {
     "data": {
      "text/plain": [
       "0.11920588235294116"
      ]
     },
     "execution_count": 25,
     "metadata": {},
     "output_type": "execute_result"
    }
   ],
   "source": [
    "IG"
   ]
  },
  {
   "cell_type": "code",
   "execution_count": null,
   "id": "056ff3a5",
   "metadata": {},
   "outputs": [],
   "source": [
    "#second exercise"
   ]
  },
  {
   "cell_type": "code",
   "execution_count": 26,
   "id": "d1ed9fbe",
   "metadata": {},
   "outputs": [
    {
     "data": {
      "text/plain": [
       "array([1, 0, 2, 1, 1, 0, 1, 2, 1, 1, 2, 0, 0, 0, 0, 1, 2, 1, 1, 2, 0, 2,\n",
       "       0, 2, 2, 2, 2, 2, 0, 0, 0, 0, 1, 0, 0, 2, 1, 0])"
      ]
     },
     "execution_count": 26,
     "metadata": {},
     "output_type": "execute_result"
    }
   ],
   "source": [
    "import pandas as pd\n",
    "from sklearn.tree import DecisionTreeClassifier\n",
    "from sklearn.model_selection import train_test_split\n",
    "from sklearn.datasets import load_iris\n",
    "\n",
    "\n",
    "iris = load_iris()\n",
    "X = iris.data\n",
    "y = iris.target\n",
    "X_train, X_test, y_train, y_test = train_test_split(X, y, test_size=0.25, random_state=42)\n",
    "dt = DecisionTreeClassifier()\n",
    "dt.fit(X_train, y_train)\n",
    "predicted = dt.predict(X_test)\n",
    "predicted"
   ]
  },
  {
   "cell_type": "code",
   "execution_count": null,
   "id": "952d7a32",
   "metadata": {},
   "outputs": [],
   "source": [
    "#third exercise"
   ]
  },
  {
   "cell_type": "code",
   "execution_count": 27,
   "id": "764aa24e",
   "metadata": {},
   "outputs": [],
   "source": [
    "import pandas as pd\n",
    "from sklearn.tree import DecisionTreeClassifier\n",
    "from sklearn.model_selection import GridSearchCV\n",
    "from sklearn.datasets import load_iris\n",
    "\n",
    "\n",
    "iris = load_iris()\n",
    "X = iris.data\n",
    "y = iris.target\n",
    "clf = DecisionTreeClassifier()\n",
    "parametrs = {'criterion': ['gini','entropy'], 'max_depth':range(1,10), 'min_samples_split':range(2,10),'min_samples_leaf':range(1,10)}\n",
    "search = GridSearchCV(clf, parametrs, cv=5)\n",
    "search.fit(X, y)\n",
    "best_tree = search.best_estimator_"
   ]
  },
  {
   "cell_type": "code",
   "execution_count": null,
   "id": "e26fe553",
   "metadata": {},
   "outputs": [],
   "source": [
    "#4 exercise"
   ]
  },
  {
   "cell_type": "code",
   "execution_count": 28,
   "id": "29533b06",
   "metadata": {},
   "outputs": [
    {
     "ename": "NameError",
     "evalue": "name 'train' is not defined",
     "output_type": "error",
     "traceback": [
      "\u001b[1;31m---------------------------------------------------------------------------\u001b[0m",
      "\u001b[1;31mNameError\u001b[0m                                 Traceback (most recent call last)",
      "Input \u001b[1;32mIn [28]\u001b[0m, in \u001b[0;36m<cell line: 7>\u001b[1;34m()\u001b[0m\n\u001b[0;32m      4\u001b[0m \u001b[38;5;28;01mfrom\u001b[39;00m \u001b[38;5;21;01msklearn\u001b[39;00m\u001b[38;5;21;01m.\u001b[39;00m\u001b[38;5;21;01mmodel_selection\u001b[39;00m \u001b[38;5;28;01mimport\u001b[39;00m GridSearchCV\n\u001b[0;32m      6\u001b[0m \u001b[38;5;66;03m# разбиваем датафрейм train на X и y\u001b[39;00m\n\u001b[1;32m----> 7\u001b[0m x_train \u001b[38;5;241m=\u001b[39m \u001b[43mtrain\u001b[49m\u001b[38;5;241m.\u001b[39mdrop([\u001b[38;5;124m\"\u001b[39m\u001b[38;5;124my\u001b[39m\u001b[38;5;124m\"\u001b[39m], axis\u001b[38;5;241m=\u001b[39m\u001b[38;5;241m1\u001b[39m)\n\u001b[0;32m      8\u001b[0m y_train \u001b[38;5;241m=\u001b[39m train[\u001b[38;5;124m\"\u001b[39m\u001b[38;5;124my\u001b[39m\u001b[38;5;124m\"\u001b[39m]\n\u001b[0;32m     10\u001b[0m \u001b[38;5;66;03m# создаем словарь с параметрами, которые хотим проверить\u001b[39;00m\n",
      "\u001b[1;31mNameError\u001b[0m: name 'train' is not defined"
     ]
    }
   ],
   "source": [
    "import numpy as np\n",
    "import pandas as pd\n",
    "from sklearn.tree import DecisionTreeClassifier\n",
    "from sklearn.model_selection import GridSearchCV\n",
    "\n",
    "# разбиваем датафрейм train на X и y\n",
    "x_train = train.drop([\"y\"], axis=1)\n",
    "y_train = train[\"y\"]\n",
    "\n",
    "# создаем словарь с параметрами, которые хотим проверить\n",
    "params = {\"max_depth\": range(1,11), \"min_samples_split\":range(2,11), \"min_samples_leaf\":range(1,11)}\n",
    "\n",
    "# создаем экзмпляр дерева\n",
    "dt = DecisionTreeClassifier()\n",
    "\n",
    "# создаем экземпляр GridSearchCV\n",
    "search = GridSearchCV(dt, params, cv=5)\n",
    "\n",
    "# обучаем или ищем лучшее дерево\n",
    "search.fit(x_train,y_train)\n",
    "\n",
    "# сохраням лучшее дерево по мнению GridSearchCV\n",
    "best_tree = search.best_estimator_\n",
    "\n",
    "# делаем предсказания по лучшему дереву на датасете test\n",
    "predictions = best_tree.predict(X_test)"
   ]
  },
  {
   "cell_type": "code",
   "execution_count": null,
   "id": "fa748532",
   "metadata": {},
   "outputs": [],
   "source": []
  },
  {
   "cell_type": "code",
   "execution_count": null,
   "id": "b55a9bba",
   "metadata": {},
   "outputs": [],
   "source": []
  }
 ],
 "metadata": {
  "kernelspec": {
   "display_name": "Python 3 (ipykernel)",
   "language": "python",
   "name": "python3"
  },
  "language_info": {
   "codemirror_mode": {
    "name": "ipython",
    "version": 3
   },
   "file_extension": ".py",
   "mimetype": "text/x-python",
   "name": "python",
   "nbconvert_exporter": "python",
   "pygments_lexer": "ipython3",
   "version": "3.9.12"
  }
 },
 "nbformat": 4,
 "nbformat_minor": 5
}
